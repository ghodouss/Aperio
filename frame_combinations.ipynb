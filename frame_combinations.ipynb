{
 "cells": [
  {
   "cell_type": "code",
   "execution_count": 15,
   "metadata": {
    "collapsed": false
   },
   "outputs": [],
   "source": [
    "import matplotlib.pyplot as plt\n",
    "import numpy as np\n",
    "import pandas as pd\n",
    "from keras import backend as K\n",
    "from keras.layers import Conv2D, Dense\n",
    "from keras.layers.advanced_activations import LeakyReLU\n",
    "from keras.models import Model, Sequential"
   ]
  },
  {
   "cell_type": "code",
   "execution_count": 30,
   "metadata": {
    "collapsed": false
   },
   "outputs": [],
   "source": [
    "light = Sequential()\n",
    "\n",
    "light.add(Conv2D(32, (7, 7), strides=(3, 3), activation='relu', padding=\"SAME\", input_shape = (None, None, 3)))\n",
    "light.add(Conv2D(64, (5, 5), strides=(2, 2), activation='relu', padding=\"SAME\"))\n",
    "light.add(Conv2D(32, (4, 4), strides=(2, 2), activation='relu', padding=\"SAME\"))\n",
    "light.add(Conv2D(18, (4, 4), strides=(2, 2), activation='relu', padding=\"SAME\"))\n",
    "light.add(Conv2D(3, (1, 1), strides=(1, 1), activation='relu', padding=\"SAME\"))\n",
    "\n",
    "light.compile(optimizer='adam', loss='categorical_crossentropy', metrics=['accuracy'])"
   ]
  },
  {
   "cell_type": "code",
   "execution_count": null,
   "metadata": {
    "collapsed": true
   },
   "outputs": [],
   "source": []
  }
 ],
 "metadata": {
  "anaconda-cloud": {},
  "kernelspec": {
   "display_name": "Python [conda root]",
   "language": "python",
   "name": "conda-root-py"
  },
  "language_info": {
   "codemirror_mode": {
    "name": "ipython",
    "version": 3
   },
   "file_extension": ".py",
   "mimetype": "text/x-python",
   "name": "python",
   "nbconvert_exporter": "python",
   "pygments_lexer": "ipython3",
   "version": "3.5.2"
  }
 },
 "nbformat": 4,
 "nbformat_minor": 1
}
